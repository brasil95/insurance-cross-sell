{
 "cells": [
  {
   "cell_type": "markdown",
   "id": "f5545625",
   "metadata": {
    "heading_collapsed": true
   },
   "source": [
    "# 0 IMPORTS"
   ]
  },
  {
   "cell_type": "code",
   "execution_count": 1,
   "id": "7099195e",
   "metadata": {
    "ExecuteTime": {
     "end_time": "2022-06-17T21:32:37.062002Z",
     "start_time": "2022-06-17T21:32:36.161388Z"
    },
    "hidden": true
   },
   "outputs": [],
   "source": [
    "import pandas as pd\n",
    "\n",
    "import pandas.io.sql as psql\n",
    "import psycopg2 as pg\n",
    "\n",
    "import warnings\n",
    "\n",
    "warnings.filterwarnings( 'ignore' )"
   ]
  },
  {
   "cell_type": "markdown",
   "id": "05cdedfb",
   "metadata": {
    "heading_collapsed": true,
    "hidden": true
   },
   "source": [
    "## 0.1 Funções auxiliares "
   ]
  },
  {
   "cell_type": "code",
   "execution_count": null,
   "id": "89625cb8",
   "metadata": {
    "hidden": true
   },
   "outputs": [],
   "source": []
  },
  {
   "cell_type": "markdown",
   "id": "0fc9040d",
   "metadata": {
    "heading_collapsed": true,
    "hidden": true
   },
   "source": [
    "## 0.2 Carregamento dos dados"
   ]
  },
  {
   "cell_type": "code",
   "execution_count": 2,
   "id": "874f349d",
   "metadata": {
    "ExecuteTime": {
     "end_time": "2022-06-17T21:32:39.946652Z",
     "start_time": "2022-06-17T21:32:39.928808Z"
    },
    "hidden": true
   },
   "outputs": [],
   "source": [
    "# Credentials\n",
    "host = 'comunidade-ds-postgres.c50pcakiuwi3.us-east-1.rds.amazonaws.com'\n",
    "port = 5432\n",
    "database = 'comunidadedsdb'\n",
    "username = 'member'\n",
    "pwd = 'cdspa'"
   ]
  },
  {
   "cell_type": "code",
   "execution_count": 3,
   "id": "5fb5e702",
   "metadata": {
    "ExecuteTime": {
     "end_time": "2022-06-17T21:32:42.457842Z",
     "start_time": "2022-06-17T21:32:41.424577Z"
    },
    "hidden": true
   },
   "outputs": [],
   "source": [
    "conn = pg.connect(user=username,\n",
    "                 password=pwd,\n",
    "                 host=host,\n",
    "                 port=port,\n",
    "                 database=database)"
   ]
  },
  {
   "cell_type": "code",
   "execution_count": 4,
   "id": "db465a0a",
   "metadata": {
    "ExecuteTime": {
     "end_time": "2022-06-17T21:32:43.614168Z",
     "start_time": "2022-06-17T21:32:43.601356Z"
    },
    "hidden": true
   },
   "outputs": [],
   "source": [
    "query = \"\"\"\n",
    "        SELECT\n",
    "            u.id,\n",
    "            u.gender,\n",
    "            u.age,\n",
    "            u.region_code,\n",
    "            u.policy_sales_channel,\n",
    "            i.previously_insured,\n",
    "            i.annual_premium,\n",
    "            i.vintage,\n",
    "            i.response,\n",
    "            v.driving_license,\n",
    "            v.vehicle_age,\n",
    "            v.vehicle_damage\n",
    "        FROM pa004.users as u \n",
    "        LEFT JOIN pa004.insurance as i ON (u.id = i.id)\n",
    "        LEFT JOIN pa004.vehicle as v ON (u.id = v.id)\n",
    "        \"\"\""
   ]
  },
  {
   "cell_type": "code",
   "execution_count": 5,
   "id": "15452adb",
   "metadata": {
    "ExecuteTime": {
     "end_time": "2022-06-17T21:32:52.883015Z",
     "start_time": "2022-06-17T21:32:45.792550Z"
    },
    "hidden": true
   },
   "outputs": [],
   "source": [
    "df_raw = pd.read_sql(query, conn)\n",
    "conn.close()"
   ]
  },
  {
   "cell_type": "code",
   "execution_count": 7,
   "id": "f34ba76f",
   "metadata": {
    "ExecuteTime": {
     "end_time": "2022-06-17T21:33:13.837535Z",
     "start_time": "2022-06-17T21:33:13.802786Z"
    },
    "hidden": true
   },
   "outputs": [
    {
     "data": {
      "text/html": [
       "<div>\n",
       "<style scoped>\n",
       "    .dataframe tbody tr th:only-of-type {\n",
       "        vertical-align: middle;\n",
       "    }\n",
       "\n",
       "    .dataframe tbody tr th {\n",
       "        vertical-align: top;\n",
       "    }\n",
       "\n",
       "    .dataframe thead th {\n",
       "        text-align: right;\n",
       "    }\n",
       "</style>\n",
       "<table border=\"1\" class=\"dataframe\">\n",
       "  <thead>\n",
       "    <tr style=\"text-align: right;\">\n",
       "      <th></th>\n",
       "      <th>id</th>\n",
       "      <th>gender</th>\n",
       "      <th>age</th>\n",
       "      <th>region_code</th>\n",
       "      <th>policy_sales_channel</th>\n",
       "      <th>previously_insured</th>\n",
       "      <th>annual_premium</th>\n",
       "      <th>vintage</th>\n",
       "      <th>response</th>\n",
       "      <th>driving_license</th>\n",
       "      <th>vehicle_age</th>\n",
       "      <th>vehicle_damage</th>\n",
       "    </tr>\n",
       "  </thead>\n",
       "  <tbody>\n",
       "    <tr>\n",
       "      <th>0</th>\n",
       "      <td>7</td>\n",
       "      <td>Male</td>\n",
       "      <td>23</td>\n",
       "      <td>11.0</td>\n",
       "      <td>152.0</td>\n",
       "      <td>0</td>\n",
       "      <td>23367.0</td>\n",
       "      <td>249</td>\n",
       "      <td>0</td>\n",
       "      <td>1</td>\n",
       "      <td>&lt; 1 Year</td>\n",
       "      <td>Yes</td>\n",
       "    </tr>\n",
       "    <tr>\n",
       "      <th>1</th>\n",
       "      <td>13</td>\n",
       "      <td>Female</td>\n",
       "      <td>41</td>\n",
       "      <td>15.0</td>\n",
       "      <td>14.0</td>\n",
       "      <td>1</td>\n",
       "      <td>31409.0</td>\n",
       "      <td>221</td>\n",
       "      <td>0</td>\n",
       "      <td>1</td>\n",
       "      <td>1-2 Year</td>\n",
       "      <td>No</td>\n",
       "    </tr>\n",
       "    <tr>\n",
       "      <th>2</th>\n",
       "      <td>18</td>\n",
       "      <td>Female</td>\n",
       "      <td>25</td>\n",
       "      <td>35.0</td>\n",
       "      <td>152.0</td>\n",
       "      <td>1</td>\n",
       "      <td>46622.0</td>\n",
       "      <td>299</td>\n",
       "      <td>0</td>\n",
       "      <td>1</td>\n",
       "      <td>&lt; 1 Year</td>\n",
       "      <td>No</td>\n",
       "    </tr>\n",
       "    <tr>\n",
       "      <th>3</th>\n",
       "      <td>31</td>\n",
       "      <td>Female</td>\n",
       "      <td>26</td>\n",
       "      <td>8.0</td>\n",
       "      <td>160.0</td>\n",
       "      <td>0</td>\n",
       "      <td>2630.0</td>\n",
       "      <td>136</td>\n",
       "      <td>0</td>\n",
       "      <td>1</td>\n",
       "      <td>&lt; 1 Year</td>\n",
       "      <td>No</td>\n",
       "    </tr>\n",
       "    <tr>\n",
       "      <th>4</th>\n",
       "      <td>39</td>\n",
       "      <td>Male</td>\n",
       "      <td>45</td>\n",
       "      <td>8.0</td>\n",
       "      <td>124.0</td>\n",
       "      <td>0</td>\n",
       "      <td>42297.0</td>\n",
       "      <td>264</td>\n",
       "      <td>0</td>\n",
       "      <td>1</td>\n",
       "      <td>1-2 Year</td>\n",
       "      <td>Yes</td>\n",
       "    </tr>\n",
       "  </tbody>\n",
       "</table>\n",
       "</div>"
      ],
      "text/plain": [
       "   id  gender  age  region_code  policy_sales_channel  previously_insured  \\\n",
       "0   7    Male   23         11.0                 152.0                   0   \n",
       "1  13  Female   41         15.0                  14.0                   1   \n",
       "2  18  Female   25         35.0                 152.0                   1   \n",
       "3  31  Female   26          8.0                 160.0                   0   \n",
       "4  39    Male   45          8.0                 124.0                   0   \n",
       "\n",
       "   annual_premium  vintage  response  driving_license vehicle_age  \\\n",
       "0         23367.0      249         0                1    < 1 Year   \n",
       "1         31409.0      221         0                1    1-2 Year   \n",
       "2         46622.0      299         0                1    < 1 Year   \n",
       "3          2630.0      136         0                1    < 1 Year   \n",
       "4         42297.0      264         0                1    1-2 Year   \n",
       "\n",
       "  vehicle_damage  \n",
       "0            Yes  \n",
       "1             No  \n",
       "2             No  \n",
       "3             No  \n",
       "4            Yes  "
      ]
     },
     "execution_count": 7,
     "metadata": {},
     "output_type": "execute_result"
    }
   ],
   "source": [
    "df_raw.head()"
   ]
  }
 ],
 "metadata": {
  "kernelspec": {
   "display_name": "Python [conda env:insurancepa] *",
   "language": "python",
   "name": "conda-env-insurancepa-py"
  },
  "language_info": {
   "codemirror_mode": {
    "name": "ipython",
    "version": 3
   },
   "file_extension": ".py",
   "mimetype": "text/x-python",
   "name": "python",
   "nbconvert_exporter": "python",
   "pygments_lexer": "ipython3",
   "version": "3.10.5"
  }
 },
 "nbformat": 4,
 "nbformat_minor": 5
}
